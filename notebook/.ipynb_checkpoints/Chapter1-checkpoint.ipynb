{
 "cells": [
  {
   "cell_type": "markdown",
   "metadata": {},
   "source": [
    "%%latex\n",
    "\n",
    "# Perceptrons(感知器)\n",
    "a type of artificial neuron\n",
    " - sigmoid neuron\n",
    "   1. Logistic functuion\n",
    "   2. TanH function\n",
    "   3. ArcTan function\n",
    "   4. Softsign function\n",
    "  - Rectified linear unit (ReLU)\n",
    "  - Leaky rectified linear unit (Leaky ReLU)\n",
    "  - Parameteric rectified linear unit (PReLU)\n",
    "  - Randomized leaky rectified linear unit (RReLU)\n",
    "  - Exponential linear unit (ELU)\n",
    "  - Gaussian\n",
    "  \n",
    "The following lists activation functions are not functions of a single fold x from the previous layer of layers\n",
    "  - Softmax\n",
    "    f(x) = \\int\\limits_a^b\n",
    "    \n",
    "    \n",
    "    - Maxout\n",
    "  \n"
   ]
  }
 ],
 "metadata": {
  "kernelspec": {
   "display_name": "Python 2",
   "language": "python",
   "name": "python2"
  },
  "language_info": {
   "codemirror_mode": {
    "name": "ipython",
    "version": 2
   },
   "file_extension": ".py",
   "mimetype": "text/x-python",
   "name": "python",
   "nbconvert_exporter": "python",
   "pygments_lexer": "ipython2",
   "version": "2.7.13"
  }
 },
 "nbformat": 4,
 "nbformat_minor": 2
}
